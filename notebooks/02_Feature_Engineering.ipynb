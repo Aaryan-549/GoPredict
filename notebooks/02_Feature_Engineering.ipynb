{
 "cells": [
  {
   "cell_type": "code",
   "execution_count": 1,
   "id": "5603c7cd",
   "metadata": {},
   "outputs": [],
   "source": [
    "import warnings \n",
    "warnings.filterwarnings(\"ignore\")\n",
    "warnings.filterwarnings(\"ignore\", category=DeprecationWarning)\n",
    "\n",
    "import numpy as np\n",
    "import pandas as pd\n",
    "import matplotlib.pyplot as plt\n",
    "import seaborn as sns\n",
    "%matplotlib inline\n",
    "\n",
    "import datetime\n",
    "import random\n",
    "import time\n",
    "\n",
    "from sklearn.model_selection import train_test_split\n",
    "from sklearn.linear_model import LinearRegression,Ridge,Lasso\n",
    "from sklearn.svm import SVR\n",
    "from sklearn.ensemble import RandomForestRegressor\n",
    "from sklearn.cluster import DBSCAN\n",
    "from sklearn.metrics import mean_squared_error\n",
    "from sklearn.preprocessing import MinMaxScaler\n",
    "\n",
    "\n",
    "from keras.models import Sequential\n",
    "from keras.layers import Dense,Activation,Flatten,BatchNormalization\n",
    "from keras.regularizers import l2\n",
    "from xgboost import XGBRegressor\n",
    "\n",
    "try:\n",
    "    import gmplot\n",
    "    import googlemaps\n",
    "except ImportError:\n",
    "    %pip install gmplot googlemaps \n",
    "    import gmplot\n",
    "    import googlemaps"
   ]
  },
  {
   "cell_type": "code",
   "execution_count": 2,
   "id": "a7767dca",
   "metadata": {},
   "outputs": [],
   "source": [
    "import sys\n",
    "import os\n",
    "from pathlib import Path\n",
    "from dotenv import load_dotenv\n",
    "\n",
    "parent_path = Path().cwd().parent  \n",
    "\n",
    "#.env\n",
    "dotenv_path = parent_path / '.env'\n",
    "load_dotenv(dotenv_path=dotenv_path)\n",
    "\n",
    "GOOGLE_MAPS_API_KEY = os.getenv('GOOGLE_MAPS_API_KEY')\n",
    "\n",
    "#src folder \n",
    "src_path = parent_path / \"src\"\n",
    "if str(src_path) not in sys.path:\n",
    "    sys.path.insert(0, str(src_path))\n",
    "\n",
    "# Now import from features package\n",
    "from features.distance import calc_distance\n",
    "from features.gmaps import extract_gmaps_data,merge_gmaps_data\n",
    "from features.time import extract_time_features\n",
    "from features.geolocation import clustering"
   ]
  },
  {
   "cell_type": "code",
   "execution_count": 3,
   "id": "e4f91454",
   "metadata": {},
   "outputs": [
    {
     "name": "stdout",
     "output_type": "stream",
     "text": [
      "Train: (140965, 7)\n",
      "Test: (30000, 6)\n"
     ]
    },
    {
     "data": {
      "text/html": [
       "<div>\n",
       "<style scoped>\n",
       "    .dataframe tbody tr th:only-of-type {\n",
       "        vertical-align: middle;\n",
       "    }\n",
       "\n",
       "    .dataframe tbody tr th {\n",
       "        vertical-align: top;\n",
       "    }\n",
       "\n",
       "    .dataframe thead th {\n",
       "        text-align: right;\n",
       "    }\n",
       "</style>\n",
       "<table border=\"1\" class=\"dataframe\">\n",
       "  <thead>\n",
       "    <tr style=\"text-align: right;\">\n",
       "      <th></th>\n",
       "      <th>row_id</th>\n",
       "      <th>start_lng</th>\n",
       "      <th>start_lat</th>\n",
       "      <th>end_lng</th>\n",
       "      <th>end_lat</th>\n",
       "      <th>datetime</th>\n",
       "      <th>duration</th>\n",
       "    </tr>\n",
       "  </thead>\n",
       "  <tbody>\n",
       "    <tr>\n",
       "      <th>0</th>\n",
       "      <td>0</td>\n",
       "      <td>-73.783279</td>\n",
       "      <td>40.644718</td>\n",
       "      <td>-73.963799</td>\n",
       "      <td>40.681320</td>\n",
       "      <td>2015-01-09 00:51:48</td>\n",
       "      <td>1815.0</td>\n",
       "    </tr>\n",
       "    <tr>\n",
       "      <th>1</th>\n",
       "      <td>1</td>\n",
       "      <td>-122.422385</td>\n",
       "      <td>37.789408</td>\n",
       "      <td>-122.419890</td>\n",
       "      <td>37.766692</td>\n",
       "      <td>2012-09-14 01:46:00</td>\n",
       "      <td>300.0</td>\n",
       "    </tr>\n",
       "    <tr>\n",
       "      <th>2</th>\n",
       "      <td>2</td>\n",
       "      <td>-73.885292</td>\n",
       "      <td>40.773060</td>\n",
       "      <td>-74.000076</td>\n",
       "      <td>40.761360</td>\n",
       "      <td>2015-04-19 20:26:57</td>\n",
       "      <td>2620.0</td>\n",
       "    </tr>\n",
       "    <tr>\n",
       "      <th>3</th>\n",
       "      <td>3</td>\n",
       "      <td>-122.401603</td>\n",
       "      <td>37.788975</td>\n",
       "      <td>-122.410958</td>\n",
       "      <td>37.796447</td>\n",
       "      <td>2012-09-03 23:48:00</td>\n",
       "      <td>360.0</td>\n",
       "    </tr>\n",
       "    <tr>\n",
       "      <th>4</th>\n",
       "      <td>4</td>\n",
       "      <td>-74.008728</td>\n",
       "      <td>40.714317</td>\n",
       "      <td>-74.006432</td>\n",
       "      <td>40.731720</td>\n",
       "      <td>2015-01-21 12:14:45</td>\n",
       "      <td>582.0</td>\n",
       "    </tr>\n",
       "  </tbody>\n",
       "</table>\n",
       "</div>"
      ],
      "text/plain": [
       "   row_id   start_lng  start_lat     end_lng    end_lat             datetime  \\\n",
       "0       0  -73.783279  40.644718  -73.963799  40.681320  2015-01-09 00:51:48   \n",
       "1       1 -122.422385  37.789408 -122.419890  37.766692  2012-09-14 01:46:00   \n",
       "2       2  -73.885292  40.773060  -74.000076  40.761360  2015-04-19 20:26:57   \n",
       "3       3 -122.401603  37.788975 -122.410958  37.796447  2012-09-03 23:48:00   \n",
       "4       4  -74.008728  40.714317  -74.006432  40.731720  2015-01-21 12:14:45   \n",
       "\n",
       "   duration  \n",
       "0    1815.0  \n",
       "1     300.0  \n",
       "2    2620.0  \n",
       "3     360.0  \n",
       "4     582.0  "
      ]
     },
     "execution_count": 3,
     "metadata": {},
     "output_type": "execute_result"
    }
   ],
   "source": [
    "train_df = pd.read_csv(\"../data/processed/eda_processed_train.csv\")\n",
    "test_df = pd.read_csv(\"../data/processed/eda_processed_test.csv\")\n",
    "combine = [train_df,test_df]\n",
    "\n",
    "print(\"Train:\",train_df.shape)\n",
    "print(\"Test:\",test_df.shape)\n",
    "train_df.head()"
   ]
  },
  {
   "cell_type": "markdown",
   "id": "eb0922a4",
   "metadata": {},
   "source": [
    "## Calculating Euclidean & Manhattan distance"
   ]
  },
  {
   "cell_type": "code",
   "execution_count": 4,
   "id": "959b7282",
   "metadata": {},
   "outputs": [],
   "source": [
    "for df in combine:\n",
    "    df['manhattan'] = calc_distance(df,method='manhattan')\n",
    "    df['euclidean'] = calc_distance(df,method='euclidean')"
   ]
  },
  {
   "cell_type": "code",
   "execution_count": 5,
   "id": "b8b646e4",
   "metadata": {},
   "outputs": [
    {
     "data": {
      "text/html": [
       "<div>\n",
       "<style scoped>\n",
       "    .dataframe tbody tr th:only-of-type {\n",
       "        vertical-align: middle;\n",
       "    }\n",
       "\n",
       "    .dataframe tbody tr th {\n",
       "        vertical-align: top;\n",
       "    }\n",
       "\n",
       "    .dataframe thead th {\n",
       "        text-align: right;\n",
       "    }\n",
       "</style>\n",
       "<table border=\"1\" class=\"dataframe\">\n",
       "  <thead>\n",
       "    <tr style=\"text-align: right;\">\n",
       "      <th></th>\n",
       "      <th>row_id</th>\n",
       "      <th>start_lng</th>\n",
       "      <th>start_lat</th>\n",
       "      <th>end_lng</th>\n",
       "      <th>end_lat</th>\n",
       "      <th>datetime</th>\n",
       "      <th>manhattan</th>\n",
       "      <th>euclidean</th>\n",
       "    </tr>\n",
       "  </thead>\n",
       "  <tbody>\n",
       "    <tr>\n",
       "      <th>29</th>\n",
       "      <td>29</td>\n",
       "      <td>-73.953308</td>\n",
       "      <td>40.775749</td>\n",
       "      <td>-73.965858</td>\n",
       "      <td>40.758522</td>\n",
       "      <td>2015-03-14 00:18:55</td>\n",
       "      <td>3314.760477</td>\n",
       "      <td>2190.235702</td>\n",
       "    </tr>\n",
       "  </tbody>\n",
       "</table>\n",
       "</div>"
      ],
      "text/plain": [
       "    row_id  start_lng  start_lat    end_lng    end_lat             datetime  \\\n",
       "29      29 -73.953308  40.775749 -73.965858  40.758522  2015-03-14 00:18:55   \n",
       "\n",
       "      manhattan    euclidean  \n",
       "29  3314.760477  2190.235702  "
      ]
     },
     "execution_count": 5,
     "metadata": {},
     "output_type": "execute_result"
    }
   ],
   "source": [
    "df.sample()"
   ]
  },
  {
   "cell_type": "markdown",
   "id": "3c9f8f8e",
   "metadata": {},
   "source": [
    "## Extract Google Maps data"
   ]
  },
  {
   "cell_type": "code",
   "execution_count": 6,
   "id": "a33319bb",
   "metadata": {},
   "outputs": [],
   "source": [
    "# start = 0\n",
    "# interval = 10000\n",
    "\n",
    "# #process training data in batches\n",
    "# while start < len(train_df):\n",
    "#     print(f\"Train: Now starting with batch of the {start}'s...\")\n",
    "#     train = train_df.loc[start:start+interval-1]\n",
    "#     train = extract_gmaps_data(train,GOOGLE_MAPS_API_KEY,test=False)\n",
    "#     start+=interval\n",
    "\n",
    "# #process test data in batches\n",
    "# start = 0\n",
    "# while start < len(test_df):\n",
    "#     print(f\"Test: Now starting with batch of the {start}'s...\")\n",
    "#     test = test_df.loc[start:start+interval-1]\n",
    "#     test = extract_gmaps_data(test,GOOGLE_MAPS_API_KEY,test=True)\n",
    "#     start += interval\n"
   ]
  },
  {
   "cell_type": "code",
   "execution_count": 7,
   "id": "35467d42",
   "metadata": {},
   "outputs": [],
   "source": [
    "#merging multiple gmaps csv into gmaps train and test respectively\n",
    "# merge_gmaps_data()"
   ]
  },
  {
   "cell_type": "code",
   "execution_count": 8,
   "id": "32ad6217",
   "metadata": {},
   "outputs": [],
   "source": [
    "#importing gmaps data\n",
    "gmaps_train_data = pd.read_csv(\"../data/processed/gmapsdata/gmaps_train_data.csv\",index_col='row_id')\n",
    "gmaps_test_data = pd.read_csv(\"../data/processed/gmapsdata/gmaps_test_data.csv\",index_col='row_id')\n",
    "\n",
    "train_df['gmaps_distance'] = gmaps_train_data['gmaps_distance']\n",
    "train_df['gmaps_duration'] = gmaps_train_data['gmaps_duration']\n",
    "train_df.dropna(axis=0,inplace=True)\n",
    "\n",
    "\n",
    "test_df['gmaps_distance'] = gmaps_test_data['gmaps_distance']\n",
    "test_df['gmaps_duration'] = gmaps_test_data['gmaps_duration']\n",
    "test_df.dropna(axis=0,inplace=True)\n"
   ]
  },
  {
   "cell_type": "code",
   "execution_count": 9,
   "id": "66ca6765",
   "metadata": {},
   "outputs": [
    {
     "data": {
      "text/html": [
       "<div>\n",
       "<style scoped>\n",
       "    .dataframe tbody tr th:only-of-type {\n",
       "        vertical-align: middle;\n",
       "    }\n",
       "\n",
       "    .dataframe tbody tr th {\n",
       "        vertical-align: top;\n",
       "    }\n",
       "\n",
       "    .dataframe thead th {\n",
       "        text-align: right;\n",
       "    }\n",
       "</style>\n",
       "<table border=\"1\" class=\"dataframe\">\n",
       "  <thead>\n",
       "    <tr style=\"text-align: right;\">\n",
       "      <th></th>\n",
       "      <th>row_id</th>\n",
       "      <th>start_lng</th>\n",
       "      <th>start_lat</th>\n",
       "      <th>end_lng</th>\n",
       "      <th>end_lat</th>\n",
       "      <th>datetime</th>\n",
       "      <th>duration</th>\n",
       "      <th>manhattan</th>\n",
       "      <th>euclidean</th>\n",
       "      <th>gmaps_distance</th>\n",
       "      <th>gmaps_duration</th>\n",
       "    </tr>\n",
       "  </thead>\n",
       "  <tbody>\n",
       "    <tr>\n",
       "      <th>19697</th>\n",
       "      <td>20432</td>\n",
       "      <td>-73.937187</td>\n",
       "      <td>40.759590</td>\n",
       "      <td>-73.919312</td>\n",
       "      <td>40.758690</td>\n",
       "      <td>2015-02-06 14:14:42</td>\n",
       "      <td>655.0</td>\n",
       "      <td>2090.023440</td>\n",
       "      <td>1510.548921</td>\n",
       "      <td>2009</td>\n",
       "      <td>503</td>\n",
       "    </tr>\n",
       "    <tr>\n",
       "      <th>95940</th>\n",
       "      <td>99336</td>\n",
       "      <td>-73.984291</td>\n",
       "      <td>40.759823</td>\n",
       "      <td>-73.987244</td>\n",
       "      <td>40.755108</td>\n",
       "      <td>2015-11-22 05:41:47</td>\n",
       "      <td>228.0</td>\n",
       "      <td>853.597855</td>\n",
       "      <td>580.941326</td>\n",
       "      <td>3989</td>\n",
       "      <td>609</td>\n",
       "    </tr>\n",
       "    <tr>\n",
       "      <th>112990</th>\n",
       "      <td>116991</td>\n",
       "      <td>-73.989273</td>\n",
       "      <td>40.757919</td>\n",
       "      <td>-73.979965</td>\n",
       "      <td>40.781212</td>\n",
       "      <td>2015-10-31 04:19:46</td>\n",
       "      <td>389.0</td>\n",
       "      <td>3629.126719</td>\n",
       "      <td>2709.108043</td>\n",
       "      <td>1127</td>\n",
       "      <td>254</td>\n",
       "    </tr>\n",
       "    <tr>\n",
       "      <th>36977</th>\n",
       "      <td>38308</td>\n",
       "      <td>-74.006149</td>\n",
       "      <td>40.717201</td>\n",
       "      <td>-73.988716</td>\n",
       "      <td>40.756760</td>\n",
       "      <td>2015-12-13 00:41:37</td>\n",
       "      <td>2408.0</td>\n",
       "      <td>6344.320419</td>\n",
       "      <td>4642.700566</td>\n",
       "      <td>5521</td>\n",
       "      <td>929</td>\n",
       "    </tr>\n",
       "    <tr>\n",
       "      <th>101332</th>\n",
       "      <td>104904</td>\n",
       "      <td>-73.990189</td>\n",
       "      <td>40.734360</td>\n",
       "      <td>-73.991020</td>\n",
       "      <td>40.733807</td>\n",
       "      <td>2015-11-14 18:47:52</td>\n",
       "      <td>92.0</td>\n",
       "      <td>154.066175</td>\n",
       "      <td>93.290444</td>\n",
       "      <td>15738</td>\n",
       "      <td>1479</td>\n",
       "    </tr>\n",
       "  </tbody>\n",
       "</table>\n",
       "</div>"
      ],
      "text/plain": [
       "        row_id  start_lng  start_lat    end_lng    end_lat  \\\n",
       "19697    20432 -73.937187  40.759590 -73.919312  40.758690   \n",
       "95940    99336 -73.984291  40.759823 -73.987244  40.755108   \n",
       "112990  116991 -73.989273  40.757919 -73.979965  40.781212   \n",
       "36977    38308 -74.006149  40.717201 -73.988716  40.756760   \n",
       "101332  104904 -73.990189  40.734360 -73.991020  40.733807   \n",
       "\n",
       "                   datetime  duration    manhattan    euclidean  \\\n",
       "19697   2015-02-06 14:14:42     655.0  2090.023440  1510.548921   \n",
       "95940   2015-11-22 05:41:47     228.0   853.597855   580.941326   \n",
       "112990  2015-10-31 04:19:46     389.0  3629.126719  2709.108043   \n",
       "36977   2015-12-13 00:41:37    2408.0  6344.320419  4642.700566   \n",
       "101332  2015-11-14 18:47:52      92.0   154.066175    93.290444   \n",
       "\n",
       "        gmaps_distance  gmaps_duration  \n",
       "19697             2009             503  \n",
       "95940             3989             609  \n",
       "112990            1127             254  \n",
       "36977             5521             929  \n",
       "101332           15738            1479  "
      ]
     },
     "execution_count": 9,
     "metadata": {},
     "output_type": "execute_result"
    }
   ],
   "source": [
    "train_df.sample(5)"
   ]
  },
  {
   "cell_type": "code",
   "execution_count": 10,
   "id": "22c83303",
   "metadata": {},
   "outputs": [
    {
     "data": {
      "text/html": [
       "<div>\n",
       "<style scoped>\n",
       "    .dataframe tbody tr th:only-of-type {\n",
       "        vertical-align: middle;\n",
       "    }\n",
       "\n",
       "    .dataframe tbody tr th {\n",
       "        vertical-align: top;\n",
       "    }\n",
       "\n",
       "    .dataframe thead th {\n",
       "        text-align: right;\n",
       "    }\n",
       "</style>\n",
       "<table border=\"1\" class=\"dataframe\">\n",
       "  <thead>\n",
       "    <tr style=\"text-align: right;\">\n",
       "      <th></th>\n",
       "      <th>row_id</th>\n",
       "      <th>start_lng</th>\n",
       "      <th>start_lat</th>\n",
       "      <th>end_lng</th>\n",
       "      <th>end_lat</th>\n",
       "      <th>datetime</th>\n",
       "      <th>manhattan</th>\n",
       "      <th>euclidean</th>\n",
       "      <th>gmaps_distance</th>\n",
       "      <th>gmaps_duration</th>\n",
       "    </tr>\n",
       "  </thead>\n",
       "  <tbody>\n",
       "    <tr>\n",
       "      <th>18235</th>\n",
       "      <td>18235</td>\n",
       "      <td>-122.410247</td>\n",
       "      <td>37.805665</td>\n",
       "      <td>-122.441065</td>\n",
       "      <td>37.799482</td>\n",
       "      <td>2012-09-02 09:20:00</td>\n",
       "      <td>4118.932479</td>\n",
       "      <td>2796.666489</td>\n",
       "      <td>3159</td>\n",
       "      <td>610</td>\n",
       "    </tr>\n",
       "    <tr>\n",
       "      <th>4322</th>\n",
       "      <td>4322</td>\n",
       "      <td>-73.950264</td>\n",
       "      <td>40.771397</td>\n",
       "      <td>-73.972099</td>\n",
       "      <td>40.781612</td>\n",
       "      <td>2015-05-24 20:29:58</td>\n",
       "      <td>3567.789680</td>\n",
       "      <td>2163.573945</td>\n",
       "      <td>2335</td>\n",
       "      <td>531</td>\n",
       "    </tr>\n",
       "    <tr>\n",
       "      <th>9942</th>\n",
       "      <td>9942</td>\n",
       "      <td>-122.473873</td>\n",
       "      <td>37.786323</td>\n",
       "      <td>-122.457058</td>\n",
       "      <td>37.763812</td>\n",
       "      <td>2012-09-13 11:40:00</td>\n",
       "      <td>4377.750295</td>\n",
       "      <td>2910.092913</td>\n",
       "      <td>4736</td>\n",
       "      <td>851</td>\n",
       "    </tr>\n",
       "    <tr>\n",
       "      <th>24067</th>\n",
       "      <td>24067</td>\n",
       "      <td>-73.950211</td>\n",
       "      <td>40.775620</td>\n",
       "      <td>-73.948639</td>\n",
       "      <td>40.777740</td>\n",
       "      <td>2015-05-07 20:18:07</td>\n",
       "      <td>410.991560</td>\n",
       "      <td>270.657174</td>\n",
       "      <td>270</td>\n",
       "      <td>41</td>\n",
       "    </tr>\n",
       "    <tr>\n",
       "      <th>18350</th>\n",
       "      <td>18350</td>\n",
       "      <td>-73.972130</td>\n",
       "      <td>40.794262</td>\n",
       "      <td>-73.977196</td>\n",
       "      <td>40.791126</td>\n",
       "      <td>2015-11-25 04:12:59</td>\n",
       "      <td>913.042463</td>\n",
       "      <td>551.503259</td>\n",
       "      <td>709</td>\n",
       "      <td>192</td>\n",
       "    </tr>\n",
       "  </tbody>\n",
       "</table>\n",
       "</div>"
      ],
      "text/plain": [
       "       row_id   start_lng  start_lat     end_lng    end_lat  \\\n",
       "18235   18235 -122.410247  37.805665 -122.441065  37.799482   \n",
       "4322     4322  -73.950264  40.771397  -73.972099  40.781612   \n",
       "9942     9942 -122.473873  37.786323 -122.457058  37.763812   \n",
       "24067   24067  -73.950211  40.775620  -73.948639  40.777740   \n",
       "18350   18350  -73.972130  40.794262  -73.977196  40.791126   \n",
       "\n",
       "                  datetime    manhattan    euclidean  gmaps_distance  \\\n",
       "18235  2012-09-02 09:20:00  4118.932479  2796.666489            3159   \n",
       "4322   2015-05-24 20:29:58  3567.789680  2163.573945            2335   \n",
       "9942   2012-09-13 11:40:00  4377.750295  2910.092913            4736   \n",
       "24067  2015-05-07 20:18:07   410.991560   270.657174             270   \n",
       "18350  2015-11-25 04:12:59   913.042463   551.503259             709   \n",
       "\n",
       "       gmaps_duration  \n",
       "18235             610  \n",
       "4322              531  \n",
       "9942              851  \n",
       "24067              41  \n",
       "18350             192  "
      ]
     },
     "execution_count": 10,
     "metadata": {},
     "output_type": "execute_result"
    }
   ],
   "source": [
    "test_df.sample(5)"
   ]
  },
  {
   "cell_type": "markdown",
   "id": "eb756ae3",
   "metadata": {},
   "source": [
    "sometimes there are chances that Google Maps API returns 0 distance for certain routes. Treasure Island in San Francisco has weird quirks where Google Maps fails to calculate the driving distance."
   ]
  },
  {
   "cell_type": "code",
   "execution_count": 11,
   "id": "515ea44c",
   "metadata": {},
   "outputs": [],
   "source": [
    "#Tresure Island fix\n",
    "for df in combine:\n",
    "    TI_df = df[df['gmaps_distance']==0].loc[df.manhattan>2000]\n",
    "    #replacing them with manhattan distance\n",
    "    df.loc[TI_df.index,\"gmaps_distance\"] = TI_df.manhattan\n",
    "    #approximating gmaps_duration \n",
    "    df.loc[TI_df.index,\"gmaps_duration\"] = TI_df.manhattan/11.0"
   ]
  },
  {
   "cell_type": "markdown",
   "id": "5abc2b2e",
   "metadata": {},
   "source": [
    "## Time Features"
   ]
  },
  {
   "cell_type": "code",
   "execution_count": 12,
   "id": "a09d47f3",
   "metadata": {},
   "outputs": [
    {
     "data": {
      "text/html": [
       "<div>\n",
       "<style scoped>\n",
       "    .dataframe tbody tr th:only-of-type {\n",
       "        vertical-align: middle;\n",
       "    }\n",
       "\n",
       "    .dataframe tbody tr th {\n",
       "        vertical-align: top;\n",
       "    }\n",
       "\n",
       "    .dataframe thead th {\n",
       "        text-align: right;\n",
       "    }\n",
       "</style>\n",
       "<table border=\"1\" class=\"dataframe\">\n",
       "  <thead>\n",
       "    <tr style=\"text-align: right;\">\n",
       "      <th></th>\n",
       "      <th>row_id</th>\n",
       "      <th>start_lng</th>\n",
       "      <th>start_lat</th>\n",
       "      <th>end_lng</th>\n",
       "      <th>end_lat</th>\n",
       "      <th>duration</th>\n",
       "      <th>manhattan</th>\n",
       "      <th>euclidean</th>\n",
       "      <th>gmaps_distance</th>\n",
       "      <th>gmaps_duration</th>\n",
       "      <th>weekday</th>\n",
       "      <th>hour</th>\n",
       "      <th>date</th>\n",
       "      <th>holiday</th>\n",
       "    </tr>\n",
       "  </thead>\n",
       "  <tbody>\n",
       "    <tr>\n",
       "      <th>0</th>\n",
       "      <td>0</td>\n",
       "      <td>-73.783279</td>\n",
       "      <td>40.644718</td>\n",
       "      <td>-73.963799</td>\n",
       "      <td>40.681320</td>\n",
       "      <td>1815.0</td>\n",
       "      <td>24169.910480</td>\n",
       "      <td>15778.616804</td>\n",
       "      <td>19322.0</td>\n",
       "      <td>2567.0</td>\n",
       "      <td>5</td>\n",
       "      <td>0</td>\n",
       "      <td>2015-01-09</td>\n",
       "      <td>0</td>\n",
       "    </tr>\n",
       "    <tr>\n",
       "      <th>1</th>\n",
       "      <td>1</td>\n",
       "      <td>-122.422385</td>\n",
       "      <td>37.789408</td>\n",
       "      <td>-122.419890</td>\n",
       "      <td>37.766692</td>\n",
       "      <td>300.0</td>\n",
       "      <td>2806.475682</td>\n",
       "      <td>2538.244354</td>\n",
       "      <td>2855.0</td>\n",
       "      <td>550.0</td>\n",
       "      <td>5</td>\n",
       "      <td>1</td>\n",
       "      <td>2012-09-14</td>\n",
       "      <td>0</td>\n",
       "    </tr>\n",
       "    <tr>\n",
       "      <th>2</th>\n",
       "      <td>2</td>\n",
       "      <td>-73.885292</td>\n",
       "      <td>40.773060</td>\n",
       "      <td>-74.000076</td>\n",
       "      <td>40.761360</td>\n",
       "      <td>2620.0</td>\n",
       "      <td>14080.134473</td>\n",
       "      <td>9764.679964</td>\n",
       "      <td>14693.0</td>\n",
       "      <td>1876.0</td>\n",
       "      <td>7</td>\n",
       "      <td>20</td>\n",
       "      <td>2015-04-19</td>\n",
       "      <td>0</td>\n",
       "    </tr>\n",
       "    <tr>\n",
       "      <th>3</th>\n",
       "      <td>3</td>\n",
       "      <td>-122.401603</td>\n",
       "      <td>37.788975</td>\n",
       "      <td>-122.410958</td>\n",
       "      <td>37.796447</td>\n",
       "      <td>360.0</td>\n",
       "      <td>1873.173072</td>\n",
       "      <td>1170.082524</td>\n",
       "      <td>2019.0</td>\n",
       "      <td>578.0</td>\n",
       "      <td>1</td>\n",
       "      <td>23</td>\n",
       "      <td>2012-09-03</td>\n",
       "      <td>0</td>\n",
       "    </tr>\n",
       "    <tr>\n",
       "      <th>4</th>\n",
       "      <td>4</td>\n",
       "      <td>-74.008728</td>\n",
       "      <td>40.714317</td>\n",
       "      <td>-74.006432</td>\n",
       "      <td>40.731720</td>\n",
       "      <td>582.0</td>\n",
       "      <td>2192.882649</td>\n",
       "      <td>1946.952973</td>\n",
       "      <td>2382.0</td>\n",
       "      <td>608.0</td>\n",
       "      <td>3</td>\n",
       "      <td>12</td>\n",
       "      <td>2015-01-21</td>\n",
       "      <td>0</td>\n",
       "    </tr>\n",
       "  </tbody>\n",
       "</table>\n",
       "</div>"
      ],
      "text/plain": [
       "   row_id   start_lng  start_lat     end_lng    end_lat  duration  \\\n",
       "0       0  -73.783279  40.644718  -73.963799  40.681320    1815.0   \n",
       "1       1 -122.422385  37.789408 -122.419890  37.766692     300.0   \n",
       "2       2  -73.885292  40.773060  -74.000076  40.761360    2620.0   \n",
       "3       3 -122.401603  37.788975 -122.410958  37.796447     360.0   \n",
       "4       4  -74.008728  40.714317  -74.006432  40.731720     582.0   \n",
       "\n",
       "      manhattan     euclidean  gmaps_distance  gmaps_duration  weekday  hour  \\\n",
       "0  24169.910480  15778.616804         19322.0          2567.0        5     0   \n",
       "1   2806.475682   2538.244354          2855.0           550.0        5     1   \n",
       "2  14080.134473   9764.679964         14693.0          1876.0        7    20   \n",
       "3   1873.173072   1170.082524          2019.0           578.0        1    23   \n",
       "4   2192.882649   1946.952973          2382.0           608.0        3    12   \n",
       "\n",
       "         date  holiday  \n",
       "0  2015-01-09        0  \n",
       "1  2012-09-14        0  \n",
       "2  2015-04-19        0  \n",
       "3  2012-09-03        0  \n",
       "4  2015-01-21        0  "
      ]
     },
     "execution_count": 12,
     "metadata": {},
     "output_type": "execute_result"
    }
   ],
   "source": [
    "#add weekdays,hour,date column and drop datetime\n",
    "#adding holiday column\n",
    "extract_time_features(combine)\n",
    "train_df.head()"
   ]
  },
  {
   "cell_type": "code",
   "execution_count": 13,
   "id": "fddc2323",
   "metadata": {},
   "outputs": [
    {
     "data": {
      "text/plain": [
       "Index(['row_id', 'start_lng', 'start_lat', 'end_lng', 'end_lat', 'duration',\n",
       "       'manhattan', 'euclidean', 'gmaps_distance', 'gmaps_duration', 'weekday',\n",
       "       'hour', 'date', 'holiday'],\n",
       "      dtype='object')"
      ]
     },
     "execution_count": 13,
     "metadata": {},
     "output_type": "execute_result"
    }
   ],
   "source": [
    "train_df.columns"
   ]
  },
  {
   "cell_type": "code",
   "execution_count": 14,
   "id": "40bd936d",
   "metadata": {},
   "outputs": [
    {
     "data": {
      "text/plain": [
       "holiday\n",
       "0    137357\n",
       "1      3608\n",
       "Name: count, dtype: int64"
      ]
     },
     "execution_count": 14,
     "metadata": {},
     "output_type": "execute_result"
    }
   ],
   "source": [
    "train_df.holiday.value_counts()"
   ]
  },
  {
   "cell_type": "markdown",
   "id": "1137712c",
   "metadata": {},
   "source": [
    "## Geolocations"
   ]
  },
  {
   "cell_type": "code",
   "execution_count": 15,
   "id": "fac51066",
   "metadata": {},
   "outputs": [
    {
     "name": "stderr",
     "output_type": "stream",
     "text": [
      "2025-09-28 22:24:42 [INFO] Preparing coordinates...\n",
      "2025-09-28 22:24:42 [INFO] Preparing Clusters...\n",
      "2025-09-28 22:25:16 [INFO] Preparing labels for cluster...\n",
      "2025-09-28 22:25:16 [INFO] \n",
      "Adding cluster features to dataframes...\n"
     ]
    },
    {
     "name": "stdout",
     "output_type": "stream",
     "text": [
      "Number of clusters found: 7\n"
     ]
    },
    {
     "name": "stderr",
     "output_type": "stream",
     "text": [
      "2025-09-28 22:25:17 [INFO] \n",
      "Visualizing clusters...\n",
      "2025-09-28 22:25:17 [INFO] Saved HTML Files in gmaps/...\n",
      "2025-09-28 22:25:18 [INFO] \n",
      "Clustering complete!\n"
     ]
    }
   ],
   "source": [
    "clustering(train_df,test_df)"
   ]
  },
  {
   "cell_type": "code",
   "execution_count": 24,
   "id": "5573e75d",
   "metadata": {},
   "outputs": [
    {
     "data": {
      "text/plain": [
       "Index(['row_id', 'start_lng', 'start_lat', 'end_lng', 'end_lat', 'duration',\n",
       "       'manhattan', 'euclidean', 'gmaps_distance', 'gmaps_duration', 'weekday',\n",
       "       'hour', 'date', 'holiday', 'airport', 'citycenter', 'standalone'],\n",
       "      dtype='object')"
      ]
     },
     "execution_count": 24,
     "metadata": {},
     "output_type": "execute_result"
    }
   ],
   "source": [
    "train_df.columns"
   ]
  },
  {
   "cell_type": "code",
   "execution_count": 25,
   "id": "622ec260",
   "metadata": {},
   "outputs": [
    {
     "data": {
      "text/plain": [
       "Index(['row_id', 'start_lng', 'start_lat', 'end_lng', 'end_lat', 'manhattan',\n",
       "       'euclidean', 'gmaps_distance', 'gmaps_duration', 'weekday', 'hour',\n",
       "       'date', 'holiday', 'airport', 'citycenter', 'standalone'],\n",
       "      dtype='object')"
      ]
     },
     "execution_count": 25,
     "metadata": {},
     "output_type": "execute_result"
    }
   ],
   "source": [
    "test_df.columns"
   ]
  },
  {
   "cell_type": "code",
   "execution_count": 33,
   "id": "47a17858",
   "metadata": {},
   "outputs": [
    {
     "data": {
      "text/plain": [
       "<Axes: >"
      ]
     },
     "execution_count": 33,
     "metadata": {},
     "output_type": "execute_result"
    },
    {
     "data": {
      "image/png": "[encoded data removed]",
      "text/plain": [
       "<Figure size 640x480 with 1 Axes>"
      ]
     },
     "metadata": {},
     "output_type": "display_data"
    }
   ],
   "source": [
    "sns.barplot(train_df[['citycenter','airport','standalone']])"
   ]
  },
  {
   "cell_type": "code",
   "execution_count": null,
   "id": "bc867fcb",
   "metadata": {},
   "outputs": [],
   "source": []
  }
 ],
 "metadata": {
  "kernelspec": {
   "display_name": "Python 3",
   "language": "python",
   "name": "python3"
  },
  "language_info": {
   "codemirror_mode": {
    "name": "ipython",
    "version": 3
   },
   "file_extension": ".py",
   "mimetype": "text/x-python",
   "name": "python",
   "nbconvert_exporter": "python",
   "pygments_lexer": "ipython3",
   "version": "3.13.5"
  }
 },
 "nbformat": 4,
 "nbformat_minor": 5
}
