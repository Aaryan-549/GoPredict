{
 "cells": [
  {
   "cell_type": "code",
   "execution_count": 2,
   "id": "5603c7cd",
   "metadata": {},
   "outputs": [],
   "source": [
    "import warnings \n",
    "warnings.filterwarnings(\"ignore\")\n",
    "warnings.filterwarnings(\"ignore\", category=DeprecationWarning)\n",
    "\n",
    "import numpy as np\n",
    "import pandas as pd\n",
    "import matplotlib.pyplot as plt\n",
    "import seaborn as sns\n",
    "%matplotlib inline\n",
    "try:\n",
    "    import gmplot\n",
    "    import googlemaps\n",
    "except ImportError:\n",
    "    %pip install gmplot googlemaps \n",
    "    import gmplot\n",
    "    import googlemaps"
   ]
  },
  {
   "cell_type": "code",
   "execution_count": 3,
   "id": "a7767dca",
   "metadata": {},
   "outputs": [],
   "source": [
    "import sys\n",
    "import os\n",
    "from pathlib import Path\n",
    "from dotenv import load_dotenv\n",
    "\n",
    "parent_path = Path().cwd().parent  \n",
    "\n",
    "#.env\n",
    "dotenv_path = parent_path / '.env'\n",
    "load_dotenv(dotenv_path=dotenv_path)\n",
    "\n",
    "GOOGLE_MAPS_API_KEY = os.getenv('GOOGLE_MAPS_API_KEY')\n",
    "\n",
    "#src folder \n",
    "src_path = parent_path / \"src\"\n",
    "if str(src_path) not in sys.path:\n",
    "    sys.path.insert(0, str(src_path))\n",
    "\n",
    "# Now import from features package\n",
    "from features.distance import calc_distance\n",
    "from features.gmaps import extract_gmaps_data,merge_gmaps_data\n",
    "from features.time import extract_time_features\n",
    "from features.geolocation import clustering\n",
    "from features.precipitation import extract_precipitation_data"
   ]
  },
  {
   "cell_type": "code",
   "execution_count": null,
   "id": "e4f91454",
   "metadata": {},
   "outputs": [],
   "source": [
    "train_df = pd.read_csv(\"../data/processed/eda_processed_train.csv\",index_col=\"row_id\")\n",
    "test_df = pd.read_csv(\"../data/processed/eda_processed_test.csv\",index_col=\"row_id\")\n",
    "combine = [train_df,test_df]\n",
    "\n",
    "print(\"Train:\",train_df.shape)\n",
    "print(\"Test:\",test_df.shape)\n",
    "train_df.head()"
   ]
  },
  {
   "cell_type": "markdown",
   "id": "eb0922a4",
   "metadata": {},
   "source": [
    "## Calculating Euclidean & Manhattan distance"
   ]
  },
  {
   "cell_type": "code",
   "execution_count": null,
   "id": "959b7282",
   "metadata": {},
   "outputs": [],
   "source": [
    "for df in combine:\n",
    "    df['manhattan'] = calc_distance(df,method='manhattan')\n",
    "    df['euclidean'] = calc_distance(df,method='euclidean')"
   ]
  },
  {
   "cell_type": "code",
   "execution_count": null,
   "id": "b8b646e4",
   "metadata": {},
   "outputs": [],
   "source": [
    "df.sample()"
   ]
  },
  {
   "cell_type": "markdown",
   "id": "3c9f8f8e",
   "metadata": {},
   "source": [
    "## Extract Google Maps data"
   ]
  },
  {
   "cell_type": "code",
   "execution_count": null,
   "id": "a33319bb",
   "metadata": {},
   "outputs": [],
   "source": [
    "# start = 0\n",
    "# interval = 10000\n",
    "\n",
    "# #process training data in batches\n",
    "# while start < len(train_df):\n",
    "#     print(f\"Train: Now starting with batch of the {start}'s...\")\n",
    "#     train = train_df.loc[start:start+interval-1]\n",
    "#     train = extract_gmaps_data(train,GOOGLE_MAPS_API_KEY,test=False)\n",
    "#     start+=interval\n",
    "\n",
    "# #process test data in batches\n",
    "# start = 0\n",
    "# while start < len(test_df):\n",
    "#     print(f\"Test: Now starting with batch of the {start}'s...\")\n",
    "#     test = test_df.loc[start:start+interval-1]\n",
    "#     test = extract_gmaps_data(test,GOOGLE_MAPS_API_KEY,test=True)\n",
    "#     start += interval\n"
   ]
  },
  {
   "cell_type": "code",
   "execution_count": 4,
   "id": "35467d42",
   "metadata": {},
   "outputs": [
    {
     "name": "stdout",
     "output_type": "stream",
     "text": [
      "Merge operation completed successfully!\n"
     ]
    }
   ],
   "source": [
    "#merging multiple gmaps csv into gmaps train and test respectively\n",
    "merge_gmaps_data()"
   ]
  },
  {
   "cell_type": "code",
   "execution_count": null,
   "id": "32ad6217",
   "metadata": {},
   "outputs": [],
   "source": [
    "#importing gmaps data\n",
    "gmaps_train_data = pd.read_csv(\"../data/processed/gmapsdata/gmaps_train_data.csv\",index_col='row_id')\n",
    "gmaps_test_data = pd.read_csv(\"../data/processed/gmapsdata/gmaps_test_data.csv\",index_col='row_id')\n",
    "\n",
    "train_df['gmaps_distance'] = gmaps_train_data['gmaps_distance']\n",
    "train_df['gmaps_duration'] = gmaps_train_data['gmaps_duration']\n",
    "train_df.dropna(axis=0,inplace=True)\n",
    "\n",
    "\n",
    "test_df['gmaps_distance'] = gmaps_test_data['gmaps_distance']\n",
    "test_df['gmaps_duration'] = gmaps_test_data['gmaps_duration']\n",
    "test_df.dropna(axis=0,inplace=True)\n"
   ]
  },
  {
   "cell_type": "code",
   "execution_count": null,
   "id": "66ca6765",
   "metadata": {},
   "outputs": [],
   "source": [
    "train_df.sample(5)"
   ]
  },
  {
   "cell_type": "code",
   "execution_count": null,
   "id": "22c83303",
   "metadata": {},
   "outputs": [],
   "source": [
    "test_df.sample(5)"
   ]
  },
  {
   "cell_type": "markdown",
   "id": "eb756ae3",
   "metadata": {},
   "source": [
    "sometimes there are chances that Google Maps API returns 0 distance for certain routes. Treasure Island in San Francisco has weird quirks where Google Maps fails to calculate the driving distance."
   ]
  },
  {
   "cell_type": "code",
   "execution_count": null,
   "id": "515ea44c",
   "metadata": {},
   "outputs": [],
   "source": [
    "#Tresure Island fix\n",
    "for df in combine:\n",
    "    TI_df = df[df['gmaps_distance']==0].loc[df.manhattan>2000]\n",
    "    #replacing them with manhattan distance\n",
    "    df.loc[TI_df.index,\"gmaps_distance\"] = TI_df.manhattan\n",
    "    #approximating gmaps_duration \n",
    "    df.loc[TI_df.index,\"gmaps_duration\"] = TI_df.manhattan/11.0"
   ]
  },
  {
   "cell_type": "markdown",
   "id": "5abc2b2e",
   "metadata": {},
   "source": [
    "## Time Features"
   ]
  },
  {
   "cell_type": "code",
   "execution_count": null,
   "id": "a09d47f3",
   "metadata": {},
   "outputs": [],
   "source": [
    "#add weekdays,hour,date column and drop datetime\n",
    "#adding holiday column\n",
    "extract_time_features(combine)\n",
    "train_df.head()"
   ]
  },
  {
   "cell_type": "code",
   "execution_count": null,
   "id": "fddc2323",
   "metadata": {},
   "outputs": [],
   "source": [
    "train_df.columns"
   ]
  },
  {
   "cell_type": "code",
   "execution_count": null,
   "id": "40bd936d",
   "metadata": {},
   "outputs": [],
   "source": [
    "train_df.holiday.value_counts()"
   ]
  },
  {
   "cell_type": "markdown",
   "id": "1137712c",
   "metadata": {},
   "source": [
    "## Geolocations"
   ]
  },
  {
   "cell_type": "code",
   "execution_count": null,
   "id": "fac51066",
   "metadata": {},
   "outputs": [],
   "source": [
    "clustering(train_df,test_df)"
   ]
  },
  {
   "cell_type": "code",
   "execution_count": null,
   "id": "5573e75d",
   "metadata": {},
   "outputs": [],
   "source": [
    "train_df.columns"
   ]
  },
  {
   "cell_type": "code",
   "execution_count": null,
   "id": "622ec260",
   "metadata": {},
   "outputs": [],
   "source": [
    "test_df.columns"
   ]
  },
  {
   "cell_type": "code",
   "execution_count": null,
   "id": "47a17858",
   "metadata": {},
   "outputs": [],
   "source": [
    "sns.barplot(train_df[['citycenter','airport','standalone']])"
   ]
  },
  {
   "cell_type": "markdown",
   "id": "73cb659a",
   "metadata": {},
   "source": [
    "## Precipitation data"
   ]
  },
  {
   "cell_type": "code",
   "execution_count": null,
   "id": "bc867fcb",
   "metadata": {},
   "outputs": [],
   "source": [
    "extract_precipitation_data(combine)"
   ]
  },
  {
   "cell_type": "code",
   "execution_count": null,
   "id": "733ac42f",
   "metadata": {},
   "outputs": [],
   "source": [
    "train_df = combine[0]\n",
    "test_df = combine[1]\n",
    "train_df.head()"
   ]
  },
  {
   "cell_type": "markdown",
   "id": "030b5320",
   "metadata": {},
   "source": [
    "## Marking Outliers"
   ]
  },
  {
   "cell_type": "code",
   "execution_count": null,
   "id": "24030fb2",
   "metadata": {},
   "outputs": [],
   "source": [
    "#marking routing errors and short trips\n",
    "for df in combine: \n",
    "    df['routing_error'] = np.zeros(df.index.shape)\n",
    "    df['short_trip'] = np.zeros(df.index.shape)\n",
    "\n",
    "    df.loc[(df.gmaps_distance > 500) & (df.manhattan < 50),\"routing_error\"] = 1\n",
    "    df.loc[(df.gmaps_distance < 500) & (df.manhattan < 50),\"short_trip\"] = 1"
   ]
  },
  {
   "cell_type": "code",
   "execution_count": null,
   "id": "037e402a",
   "metadata": {},
   "outputs": [],
   "source": [
    "train_df.sample(5)"
   ]
  },
  {
   "cell_type": "code",
   "execution_count": null,
   "id": "5374a71d",
   "metadata": {},
   "outputs": [],
   "source": [
    "test_df.sample(5)"
   ]
  },
  {
   "cell_type": "code",
   "execution_count": null,
   "id": "91564b57",
   "metadata": {},
   "outputs": [],
   "source": [
    "colormap = plt.cm.viridis\n",
    "plt.figure(figsize=(10,10))\n",
    "plt.title('Pearson Correlation of Features',y=1.05,size=15)\n",
    "sns.heatmap(train_df.corr().round(2),linewidths=0.1,vmax=1.0, square=True, cmap=colormap,linecolor='white', annot=True)"
   ]
  },
  {
   "cell_type": "code",
   "execution_count": null,
   "id": "7ad9c470",
   "metadata": {},
   "outputs": [],
   "source": []
  }
 ],
 "metadata": {
  "kernelspec": {
   "display_name": "Python 3",
   "language": "python",
   "name": "python3"
  },
  "language_info": {
   "codemirror_mode": {
    "name": "ipython",
    "version": 3
   },
   "file_extension": ".py",
   "mimetype": "text/x-python",
   "name": "python",
   "nbconvert_exporter": "python",
   "pygments_lexer": "ipython3",
   "version": "3.13.5"
  }
 },
 "nbformat": 4,
 "nbformat_minor": 5
}
